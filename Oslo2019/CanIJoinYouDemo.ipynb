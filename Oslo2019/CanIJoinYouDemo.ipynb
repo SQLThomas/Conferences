{
    "metadata": {
        "kernelspec": {
            "name": "SQL",
            "display_name": "SQL",
            "language": "sql"
        },
        "language_info": {
            "name": "sql",
            "version": ""
        }
    },
    "nbformat_minor": 2,
    "nbformat": 4,
    "cells": [
        {
            "cell_type": "markdown",
            "source": [
                "### **CanIJoinYouDemo.ipynb**  \n",
                "Demo script: JOINs in SQL Server  \n",
                "©2019 Thomas Hütter, this script is provided as-is for demo and educational use only, without warranty of  \n",
                "any kind for any other purposes, so run at your own risk! ( And, *please*, don't use SELECT * in production )"
            ],
            "metadata": {}
        },
        {
            "cell_type": "code",
            "source": [
                "SELECT @@Version Version;\n",
                "\n",
                "USE WideWorldImporters;"
            ],
            "metadata": {},
            "outputs": [],
            "execution_count": 1
        },
        {
            "cell_type": "markdown",
            "source": "**Part of the Countries table**",
            "metadata": {}
        },
        {
            "cell_type": "code",
            "source": [
                "SELECT [CountryID], [CountryName], [FormalName], [IsoAlpha3Code], [LatestRecordedPopulation], [Continent]\n",
                "  FROM [Application].[Countries]\n",
                "  WHERE CountryName LIKE 'N%'"
            ],
            "metadata": {},
            "outputs": [],
            "execution_count": 2
        },
        {
            "cell_type": "markdown",
            "source": "**Our denormalized sample**",
            "metadata": {}
        },
        {
            "cell_type": "code",
            "source": [
                "SELECT * FROM [Denorm].[SalesInvoices]\n",
                "WHERE BillToCustomerID = 1059\n",
                "AND InvoiceID = 66805\n",
                "ORDER BY InvoiceID, InvoiceLineID;"
            ],
            "metadata": {},
            "outputs": [],
            "execution_count": 3
        },
        {
            "cell_type": "markdown",
            "source": "**CROSS JOIN** these tables",
            "metadata": {}
        },
        {
            "cell_type": "code",
            "source": [
                "SELECT [SupplierID], [SupplierName], [PostalAddressLine2] , [SupplierCategoryID] FROM [Purchasing].[Suppliers];\n",
                "\n",
                "SELECT [SupplierCategoryID], [SupplierCategoryName] FROM [Purchasing].[SupplierCategories];"
            ],
            "metadata": {},
            "outputs": [],
            "execution_count": 4
        },
        {
            "cell_type": "markdown",
            "source": "Explicit form",
            "metadata": {}
        },
        {
            "cell_type": "code",
            "source": [
                "SELECT Sup.[SupplierID], Sup.[SupplierName], Sup.[SupplierCategoryID], Cat.[SupplierCategoryID], Cat.[SupplierCategoryName]\n",
                "FROM [Purchasing].[Suppliers] Sup\n",
                "CROSS JOIN [Purchasing].[SupplierCategories] Cat;"
            ],
            "metadata": {},
            "outputs": [],
            "execution_count": 5
        },
        {
            "cell_type": "markdown",
            "source": "Implicit form",
            "metadata": {}
        },
        {
            "cell_type": "code",
            "source": [
                "SELECT Sup.[SupplierID], Sup.[SupplierName], Sup.[SupplierCategoryID], Cat.[SupplierCategoryID], Cat.[SupplierCategoryName]\n",
                "FROM [Purchasing].[Suppliers] Sup, [Purchasing].[SupplierCategories] Cat;"
            ],
            "metadata": {},
            "outputs": [],
            "execution_count": 6
        },
        {
            "cell_type": "markdown",
            "source": [
                "**INNER JOIN**  \n",
                "\n",
                "Explicit form"
            ],
            "metadata": {}
        },
        {
            "cell_type": "code",
            "source": [
                "SELECT Sup.[SupplierID], Sup.[SupplierName], Sup.[SupplierCategoryID], Cat.[SupplierCategoryID], Cat.[SupplierCategoryName]\n",
                "FROM [Purchasing].[Suppliers] Sup \n",
                "INNER JOIN [Purchasing].[SupplierCategories] Cat\n",
                "ON Cat.SupplierCategoryID = Sup.SupplierCategoryID;"
            ],
            "metadata": {},
            "outputs": [],
            "execution_count": 7
        },
        {
            "cell_type": "markdown",
            "source": "Implicit form",
            "metadata": {}
        },
        {
            "cell_type": "code",
            "source": [
                "SELECT Sup.[SupplierID], Sup.[SupplierName], Sup.[SupplierCategoryID], Cat.[SupplierCategoryID], Cat.[SupplierCategoryName]\n",
                "FROM [Purchasing].[Suppliers] Sup, [Purchasing].[SupplierCategories] Cat\n",
                "WHERE Cat.SupplierCategoryID = Sup.SupplierCategoryID;"
            ],
            "metadata": {},
            "outputs": [],
            "execution_count": 8
        },
        {
            "cell_type": "markdown",
            "source": "**Equi join**, shorthand (not in SQL Server)",
            "metadata": {}
        },
        {
            "cell_type": "code",
            "source": "SELECT * FROM [Purchasing].[Suppliers] JOIN [Purchasing].[SupplierCategories] USING (SupplierCategoryID);",
            "metadata": {},
            "outputs": [],
            "execution_count": 9
        },
        {
            "cell_type": "markdown",
            "source": "**Natural join** (not in SQL Server)",
            "metadata": {}
        },
        {
            "cell_type": "code",
            "source": "SELECT * FROM [Purchasing].[Suppliers] NATURAL JOIN [Purchasing].[SupplierCategories];",
            "metadata": {},
            "outputs": [],
            "execution_count": 10
        },
        {
            "cell_type": "markdown",
            "source": "**LEFT [OUTER] JOIN**",
            "metadata": {}
        },
        {
            "cell_type": "code",
            "source": [
                "SELECT SI.[InvoiceID], SI.[DeliveryMethodID], SI.[InvoiceDate], SI.[BillToCustomerID], \n",
                "SIL.[InvoiceLineID], SIL.[StockItemID], SIL.[Description], SIL.[Quantity] , SIL.[UnitPrice], SIL.[ExtendedPrice]\n",
                "FROM Sales.Invoices SI\n",
                "LEFT JOIN Sales.InvoiceLines SIL ON SIL.InvoiceID = SI.InvoiceID\n",
                "WHERE SI.InvoiceID < 7"
            ],
            "metadata": {},
            "outputs": [],
            "execution_count": 11
        },
        {
            "cell_type": "code",
            "source": [
                "SELECT Sup.SupplierID, Sup.SupplierName, PO.PurchaseOrderID, PO.OrderDate, PO.SupplierReference\n",
                "FROM Purchasing.Suppliers Sup\n",
                "LEFT JOIN Purchasing.PurchaseOrders PO ON PO.SupplierID = Sup.SupplierID\n",
                "WHERE Sup.SupplierID < 4\n",
                "ORDER BY Sup.SupplierID, PO.PurchaseOrderID"
            ],
            "metadata": {},
            "outputs": [],
            "execution_count": 12
        },
        {
            "cell_type": "markdown",
            "source": "**RIGHT [OUTER] JOIN**",
            "metadata": {}
        },
        {
            "cell_type": "code",
            "source": [
                "SELECT Sup.SupplierID, Sup.SupplierName, PO.PurchaseOrderID, PO.OrderDate, PO.SupplierReference\n",
                "FROM Purchasing.PurchaseOrders PO\n",
                "RIGHT JOIN Purchasing.Suppliers Sup ON Sup.SupplierID = PO.SupplierID\n",
                "WHERE Sup.SupplierID < 4\n",
                "ORDER BY Sup.SupplierID, PO.PurchaseOrderID"
            ],
            "metadata": {},
            "outputs": [],
            "execution_count": 13
        },
        {
            "cell_type": "markdown",
            "source": "**FULL [OUTER] JOIN**",
            "metadata": {}
        },
        {
            "cell_type": "code",
            "source": [
                "SELECT Sup.SupplierID, Sup.SupplierName, Sup.DeliveryMethodID, Del.DeliveryMethodID, Del.DeliveryMethodName\n",
                "FROM Purchasing.Suppliers Sup\n",
                "FULL JOIN Application.DeliveryMethods Del\n",
                "ON Del.DeliveryMethodID = Sup.DeliveryMethodID"
            ],
            "metadata": {},
            "outputs": [],
            "execution_count": 14
        },
        {
            "cell_type": "markdown",
            "source": "**SELF JOIN**",
            "metadata": {}
        },
        {
            "cell_type": "code",
            "source": [
                "SELECT A1.CustomerID, A1.CustomerName, A1.PostalPostalCode, A2.CustomerID, A2.CustomerName, A2.PostalPostalCode\n",
                "FROM Sales.Customers A1\n",
                "INNER JOIN Sales.Customers A2\n",
                "ON A2.PostalPostalCode = A1.PostalPostalCode\n",
                "WHERE A1.CustomerID < A2.CustomerID\n",
                "ORDER BY A1.PostalPostalCode, A1.CustomerID"
            ],
            "metadata": {},
            "outputs": [],
            "execution_count": 15
        },
        {
            "cell_type": "markdown",
            "source": [
                "**SEMI JOIN**  \n",
                "\n",
                "Direct syntax (not in SQL Server)"
            ],
            "metadata": {}
        },
        {
            "cell_type": "code",
            "source": [
                "SELECT * FROM Application.Countries Co\n",
                "SEMI JOIN Application.StateProvinces Pr\n",
                "ON Pr.CountryID = CO.CountryID"
            ],
            "metadata": {},
            "outputs": [],
            "execution_count": 16
        },
        {
            "cell_type": "markdown",
            "source": "Indirect syntax",
            "metadata": {}
        },
        {
            "cell_type": "code",
            "source": [
                "SELECT * \n",
                "FROM Application.Countries Co\n",
                "WHERE Co.CountryID IN (\n",
                "    SELECT CountryID\n",
                "    FROM Application.StateProvinces\n",
                ")"
            ],
            "metadata": {},
            "outputs": [],
            "execution_count": 17
        },
        {
            "cell_type": "markdown",
            "source": [
                "**ANTI JOIN**  \n",
                "\n",
                "Direct syntax (not in SQL Server)"
            ],
            "metadata": {}
        },
        {
            "cell_type": "code",
            "source": [
                "SELECT * FROM Application.Countries Co\n",
                "ANTI JOIN Application.StateProvinces Pr\n",
                "ON Pr.CountryID = CO.CountryID"
            ],
            "metadata": {},
            "outputs": [],
            "execution_count": 67
        },
        {
            "cell_type": "markdown",
            "source": "Indirect syntax",
            "metadata": {}
        },
        {
            "cell_type": "code",
            "source": [
                "SELECT * \n",
                "FROM Application.Countries Co\n",
                "WHERE NOT EXISTS (\n",
                "    SELECT CountryID\n",
                "    FROM Application.StateProvinces\n",
                "    WHERE CountryID = Co.CountryID\n",
                ")"
            ],
            "metadata": {},
            "outputs": [],
            "execution_count": 18
        },
        {
            "cell_type": "markdown",
            "source": [
                "Run the following in a new query window, using Ctrl-M to include the query plan\n",
                "\n",
                "**Nested loop Joins**"
            ],
            "metadata": {}
        },
        {
            "cell_type": "code",
            "source": [
                "SELECT Sup.SupplierID, Sup.SupplierName, PO.*\n",
                "FROM Purchasing.Suppliers Sup\n",
                "LEFT JOIN Purchasing.PurchaseOrders PO\n",
                "ON PO.SupplierID = Sup.SupplierID\n",
                "WHERE Sup.SupplierID = 4"
            ],
            "metadata": {},
            "outputs": [],
            "execution_count": 19
        },
        {
            "cell_type": "markdown",
            "source": "**Merge Joins**",
            "metadata": {}
        },
        {
            "cell_type": "code",
            "source": [
                "SELECT PO.PurchaseOrderID, PO.OrderDate, POL.PurchaseOrderLineID, POL.OrderedOuters\n",
                "FROM Purchasing.PurchaseOrders PO\n",
                "LEFT JOIN Purchasing.PurchaseOrderLines POL\n",
                "ON POL.PurchaseOrderID = PO.PurchaseOrderID\n",
                "ORDER BY PO.PurchaseOrderID"
            ],
            "metadata": {},
            "outputs": [],
            "execution_count": 20
        },
        {
            "cell_type": "markdown",
            "source": "**Hash Joins**",
            "metadata": {}
        },
        {
            "cell_type": "code",
            "source": [
                "SELECT Sup.SupplierID, Sup.SupplierName, PO.*\n",
                "FROM Purchasing.Suppliers Sup\n",
                "LEFT JOIN Purchasing.PurchaseOrders PO\n",
                "ON PO.SupplierID = Sup.SupplierID"
            ],
            "metadata": {},
            "outputs": [],
            "execution_count": 71
        },
        {
            "cell_type": "markdown",
            "source": [
                "**Adaptive Joins:**  \n",
                "\n",
                "Roll your own experiments 😉"
            ],
            "metadata": {}
        },
        {
            "cell_type": "markdown",
            "source": "**CROSS APPLY**",
            "metadata": {}
        },
        {
            "cell_type": "code",
            "source": [
                "SELECT Sup.SupplierID, Sup.SupplierName, Sup.SupplierCategoryID, Cat.SupplierCategoryID, Cat.SupplierCategoryName\n",
                "FROM Purchasing.Suppliers Sup \n",
                "CROSS APPLY(\n",
                "    SELECT SupplierCategoryID, SupplierCategoryName\n",
                "    FROM Purchasing.SupplierCategories\n",
                "    WHERE SupplierCategoryID = Sup.SupplierCategoryID\n",
                ") Cat;"
            ],
            "metadata": {},
            "outputs": [],
            "execution_count": 21
        },
        {
            "cell_type": "markdown",
            "source": "**OUTER APPLY**",
            "metadata": {}
        },
        {
            "cell_type": "code",
            "source": [
                "SELECT SI.InvoiceID, SI.DeliveryMethodID, SI.InvoiceDate, SI.BillToCustomerID, SIL.Amount\n",
                "FROM Sales.Invoices SI\n",
                "OUTER APPLY (\n",
                "    SELECT SUM(ExtendedPrice) As Amount\n",
                "    FROM Sales.InvoiceLines\n",
                "    WHERE InvoiceID = SI.InvoiceID\n",
                ") SIL\n",
                "WHERE SI.InvoiceID < 7"
            ],
            "metadata": {},
            "outputs": [],
            "execution_count": 22
        }
    ]
}