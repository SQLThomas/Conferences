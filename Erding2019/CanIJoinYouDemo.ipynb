{
    "metadata": {
        "kernelspec": {
            "name": "SQL",
            "display_name": "SQL",
            "language": "sql"
        },
        "language_info": {
            "name": "sql",
            "version": ""
        }
    },
    "nbformat_minor": 2,
    "nbformat": 4,
    "cells": [
        {
            "cell_type": "markdown",
            "source": [
                "### **CanIJoinYouDemo.ipynb**  \n",
                "Demo script: JOINs in SQL Server  \n",
                "©2019 Thomas Hütter, this script is provided as-is for demo and educational use only, without warranty of  \n",
                "any kind for any other purposes, so run at your own risk! ( And, *please*, don't use SELECT * in production )"
            ],
            "metadata": {
                "azdata_cell_guid": "3efc91fa-3f49-4434-80ba-daebc864b48c"
            }
        },
        {
            "cell_type": "code",
            "source": [
                "SELECT @@Version Version;\n",
                "\n",
                "USE WideWorldImporters;"
            ],
            "metadata": {
                "azdata_cell_guid": "2b91ff7f-8db4-42c7-979a-9abcefd6be6a"
            },
            "outputs": [],
            "execution_count": 1
        },
        {
            "cell_type": "markdown",
            "source": [
                "**Part of the Countries table**"
            ],
            "metadata": {
                "azdata_cell_guid": "0f34ddf8-9e40-433a-8273-0adc7602a21f"
            }
        },
        {
            "cell_type": "code",
            "source": [
                "SELECT [CountryID], [CountryName], [FormalName], [IsoAlpha3Code], [LatestRecordedPopulation], [Continent]\n",
                "  FROM [Application].[Countries]\n",
                "  WHERE CountryName LIKE 'N%'"
            ],
            "metadata": {
                "azdata_cell_guid": "555e84f8-dea6-469b-a597-932422daaa94"
            },
            "outputs": [],
            "execution_count": 2
        },
        {
            "cell_type": "markdown",
            "source": [
                "**Our denormalized sample**"
            ],
            "metadata": {
                "azdata_cell_guid": "ba5a5be7-a03b-4db9-91de-d1a84c4f899e"
            }
        },
        {
            "cell_type": "code",
            "source": [
                "SELECT * FROM [Denorm].[SalesInvoices]\n",
                "WHERE BillToCustomerID = 1059\n",
                "AND InvoiceID = 66805\n",
                "ORDER BY InvoiceID, InvoiceLineID;"
            ],
            "metadata": {
                "azdata_cell_guid": "f2045f2e-3091-45d8-845a-d98891b80ba7"
            },
            "outputs": [],
            "execution_count": 3
        },
        {
            "cell_type": "markdown",
            "source": [
                "**CROSS JOIN** these tables"
            ],
            "metadata": {
                "azdata_cell_guid": "2ffe5162-2d85-43f3-b411-b5ca85897ebf"
            }
        },
        {
            "cell_type": "code",
            "source": [
                "SELECT [SupplierID], [SupplierName], [PostalAddressLine2] , [SupplierCategoryID] FROM [Purchasing].[Suppliers];\n",
                "\n",
                "SELECT [SupplierCategoryID], [SupplierCategoryName] FROM [Purchasing].[SupplierCategories];"
            ],
            "metadata": {
                "azdata_cell_guid": "b2e6bdf6-234f-4c3e-8131-70137d4eb729"
            },
            "outputs": [],
            "execution_count": 4
        },
        {
            "cell_type": "markdown",
            "source": [
                "Explicit form"
            ],
            "metadata": {
                "azdata_cell_guid": "623b4513-df6f-4417-8614-3f2cb13dbfec"
            }
        },
        {
            "cell_type": "code",
            "source": [
                "SELECT Sup.[SupplierID], Sup.[SupplierName], Sup.[SupplierCategoryID], Cat.[SupplierCategoryID], Cat.[SupplierCategoryName]\n",
                "FROM [Purchasing].[Suppliers] Sup\n",
                "CROSS JOIN [Purchasing].[SupplierCategories] Cat;"
            ],
            "metadata": {
                "azdata_cell_guid": "dd174133-9443-4a6f-a770-2ced3a29e092"
            },
            "outputs": [],
            "execution_count": 5
        },
        {
            "cell_type": "markdown",
            "source": [
                "Implicit form"
            ],
            "metadata": {
                "azdata_cell_guid": "84a23b45-6967-4b43-b392-5b25c4f9f3c7"
            }
        },
        {
            "cell_type": "code",
            "source": [
                "SELECT Sup.[SupplierID], Sup.[SupplierName], Sup.[SupplierCategoryID], Cat.[SupplierCategoryID], Cat.[SupplierCategoryName]\n",
                "FROM [Purchasing].[Suppliers] Sup, [Purchasing].[SupplierCategories] Cat;"
            ],
            "metadata": {
                "azdata_cell_guid": "93a8d4f3-b4fd-4e96-86bb-449a38d47420"
            },
            "outputs": [],
            "execution_count": 6
        },
        {
            "cell_type": "markdown",
            "source": [
                "**INNER JOIN**  \n",
                "\n",
                "Explicit form"
            ],
            "metadata": {
                "azdata_cell_guid": "901ee53d-2bc7-48a1-af92-6df746c1e34c"
            }
        },
        {
            "cell_type": "code",
            "source": [
                "SELECT Sup.[SupplierID], Sup.[SupplierName], Sup.[SupplierCategoryID], Cat.[SupplierCategoryID], Cat.[SupplierCategoryName]\n",
                "FROM [Purchasing].[Suppliers] Sup \n",
                "INNER JOIN [Purchasing].[SupplierCategories] Cat\n",
                "ON Cat.SupplierCategoryID = Sup.SupplierCategoryID;"
            ],
            "metadata": {
                "azdata_cell_guid": "d7ce88bd-3e7d-4653-8bf6-f3c35a0508d4"
            },
            "outputs": [],
            "execution_count": 9
        },
        {
            "cell_type": "markdown",
            "source": [
                "Implicit form"
            ],
            "metadata": {
                "azdata_cell_guid": "193e6e5a-bc11-43ca-953a-5980ca8675c6"
            }
        },
        {
            "cell_type": "code",
            "source": [
                "SELECT Sup.[SupplierID], Sup.[SupplierName], Sup.[SupplierCategoryID], Cat.[SupplierCategoryID], Cat.[SupplierCategoryName]\n",
                "FROM [Purchasing].[Suppliers] Sup, [Purchasing].[SupplierCategories] Cat\n",
                "WHERE Cat.SupplierCategoryID = Sup.SupplierCategoryID;"
            ],
            "metadata": {
                "azdata_cell_guid": "363e7c7e-a2b5-4b3b-9058-456ad33c7583"
            },
            "outputs": [],
            "execution_count": 8
        },
        {
            "cell_type": "markdown",
            "source": [
                "**Equi join**, shorthand (not in SQL Server)"
            ],
            "metadata": {
                "azdata_cell_guid": "4d54c477-b2c9-49b0-9916-71a45c87a3fe"
            }
        },
        {
            "cell_type": "code",
            "source": [
                "SELECT * FROM [Purchasing].[Suppliers] JOIN [Purchasing].[SupplierCategories] USING (SupplierCategoryID);"
            ],
            "metadata": {
                "azdata_cell_guid": "958b8379-573c-4bd9-bc6c-199e5bba4af3"
            },
            "outputs": [],
            "execution_count": 10
        },
        {
            "cell_type": "markdown",
            "source": [
                "**Natural join** (not in SQL Server)"
            ],
            "metadata": {
                "azdata_cell_guid": "fdc60088-8efa-4cba-b45f-84c75dceefce"
            }
        },
        {
            "cell_type": "code",
            "source": [
                "SELECT * FROM [Purchasing].[Suppliers] NATURAL JOIN [Purchasing].[SupplierCategories];"
            ],
            "metadata": {
                "azdata_cell_guid": "85e4a72e-7ff5-4918-b157-6e3bb6b3bfb3"
            },
            "outputs": [],
            "execution_count": 11
        },
        {
            "cell_type": "markdown",
            "source": [
                "**LEFT [OUTER] JOIN**"
            ],
            "metadata": {
                "azdata_cell_guid": "ec914329-efdc-4111-b40c-46f33401ee4f"
            }
        },
        {
            "cell_type": "code",
            "source": [
                "SELECT SI.[InvoiceID], SI.[DeliveryMethodID], SI.[InvoiceDate], SI.[BillToCustomerID], \n",
                "SIL.[InvoiceLineID], SIL.[StockItemID], SIL.[Description], SIL.[Quantity] , SIL.[UnitPrice], SIL.[ExtendedPrice]\n",
                "FROM Sales.Invoices SI\n",
                "LEFT JOIN Sales.InvoiceLines SIL ON SIL.InvoiceID = SI.InvoiceID\n",
                "WHERE SI.InvoiceID < 7"
            ],
            "metadata": {
                "azdata_cell_guid": "f5f59a53-787f-44a0-a6a2-15cf068c7846"
            },
            "outputs": [],
            "execution_count": 12
        },
        {
            "cell_type": "code",
            "source": [
                "SELECT Sup.SupplierID, Sup.SupplierName, PO.PurchaseOrderID, PO.OrderDate, PO.SupplierReference\n",
                "FROM Purchasing.Suppliers Sup\n",
                "LEFT JOIN Purchasing.PurchaseOrders PO ON PO.SupplierID = Sup.SupplierID\n",
                "WHERE Sup.SupplierID < 4\n",
                "ORDER BY Sup.SupplierID, PO.PurchaseOrderID"
            ],
            "metadata": {
                "azdata_cell_guid": "0bbf3b06-7baf-46ed-b514-bbde28d6c926"
            },
            "outputs": [],
            "execution_count": 13
        },
        {
            "cell_type": "markdown",
            "source": [
                "**RIGHT [OUTER] JOIN**"
            ],
            "metadata": {
                "azdata_cell_guid": "6f6e863d-752c-43ba-a635-0b51d3a05751"
            }
        },
        {
            "cell_type": "code",
            "source": [
                "SELECT Sup.SupplierID, Sup.SupplierName, PO.PurchaseOrderID, PO.OrderDate, PO.SupplierReference\n",
                "FROM Purchasing.PurchaseOrders PO\n",
                "RIGHT JOIN Purchasing.Suppliers Sup ON Sup.SupplierID = PO.SupplierID\n",
                "WHERE Sup.SupplierID < 4\n",
                "ORDER BY Sup.SupplierID, PO.PurchaseOrderID"
            ],
            "metadata": {
                "azdata_cell_guid": "23ffc508-9499-4862-b7f1-67a084439f21"
            },
            "outputs": [],
            "execution_count": 14
        },
        {
            "cell_type": "markdown",
            "source": [
                "**FULL [OUTER] JOIN**"
            ],
            "metadata": {
                "azdata_cell_guid": "34df8b76-c937-45de-bf02-784edce732d2"
            }
        },
        {
            "cell_type": "code",
            "source": [
                "SELECT Sup.SupplierID, Sup.SupplierName, Sup.DeliveryMethodID, Del.DeliveryMethodID, Del.DeliveryMethodName\n",
                "FROM Purchasing.Suppliers Sup\n",
                "FULL JOIN Application.DeliveryMethods Del\n",
                "ON Del.DeliveryMethodID = Sup.DeliveryMethodID"
            ],
            "metadata": {
                "azdata_cell_guid": "c6d23a32-32f5-456c-94e5-b3dab98f7fcd"
            },
            "outputs": [],
            "execution_count": 15
        },
        {
            "cell_type": "markdown",
            "source": [
                "**SELF JOIN**"
            ],
            "metadata": {
                "azdata_cell_guid": "b6f24f8a-b2d2-4db9-925d-e130ecacfc9c"
            }
        },
        {
            "cell_type": "code",
            "source": [
                "SELECT A1.CustomerID, A1.CustomerName, A1.PostalPostalCode, A2.CustomerID, A2.CustomerName, A2.PostalPostalCode\n",
                "FROM Sales.Customers A1\n",
                "INNER JOIN Sales.Customers A2\n",
                "ON A2.PostalPostalCode = A1.PostalPostalCode\n",
                "WHERE A1.CustomerID < A2.CustomerID\n",
                "ORDER BY A1.PostalPostalCode, A1.CustomerID"
            ],
            "metadata": {
                "azdata_cell_guid": "2cc8a5f2-5843-4864-b35b-83adbff52c8f"
            },
            "outputs": [],
            "execution_count": 16
        },
        {
            "cell_type": "markdown",
            "source": [
                "**SEMI JOIN**  \n",
                "\n",
                "Direct syntax (not in SQL Server)"
            ],
            "metadata": {
                "azdata_cell_guid": "14ad2f8d-986c-4473-9bff-52fb67f5ae1d"
            }
        },
        {
            "cell_type": "code",
            "source": [
                "SELECT * FROM Application.Countries Co\n",
                "SEMI JOIN Application.StateProvinces Pr\n",
                "ON Pr.CountryID = CO.CountryID"
            ],
            "metadata": {
                "azdata_cell_guid": "e0ce4211-9836-492b-9ef8-659e4da86753"
            },
            "outputs": [],
            "execution_count": 17
        },
        {
            "cell_type": "markdown",
            "source": [
                "Indirect syntax"
            ],
            "metadata": {
                "azdata_cell_guid": "81f07f11-2807-4c5f-a332-6149395a6f4c"
            }
        },
        {
            "cell_type": "code",
            "source": [
                "SELECT * \n",
                "FROM Application.Countries Co\n",
                "WHERE Co.CountryID IN (\n",
                "    SELECT CountryID\n",
                "    FROM Application.StateProvinces\n",
                ")"
            ],
            "metadata": {
                "azdata_cell_guid": "906b6d34-83ce-436f-8c0e-5fe756cab481"
            },
            "outputs": [],
            "execution_count": 18
        },
        {
            "cell_type": "markdown",
            "source": [
                "**ANTI JOIN**  \n",
                "\n",
                "Direct syntax (not in SQL Server)"
            ],
            "metadata": {
                "azdata_cell_guid": "7a603d5b-ed1d-4d93-b4fc-20562771cbff"
            }
        },
        {
            "cell_type": "code",
            "source": [
                "SELECT * FROM Application.Countries Co\n",
                "ANTI JOIN Application.StateProvinces Pr\n",
                "ON Pr.CountryID = CO.CountryID"
            ],
            "metadata": {
                "azdata_cell_guid": "94b39396-7354-469b-873a-61e72c6f00a5"
            },
            "outputs": [],
            "execution_count": 18
        },
        {
            "cell_type": "markdown",
            "source": [
                "Indirect syntax"
            ],
            "metadata": {
                "azdata_cell_guid": "31dcbc2a-bfba-4ff5-a186-0ae606f868a3"
            }
        },
        {
            "cell_type": "code",
            "source": [
                "SELECT * \n",
                "FROM Application.Countries Co\n",
                "WHERE NOT EXISTS (\n",
                "    SELECT CountryID\n",
                "    FROM Application.StateProvinces\n",
                "    WHERE CountryID = Co.CountryID\n",
                ")"
            ],
            "metadata": {
                "azdata_cell_guid": "4405750a-bb50-4aca-b53b-8a49817c95be"
            },
            "outputs": [],
            "execution_count": 19
        },
        {
            "cell_type": "markdown",
            "source": [
                "Run the following in a new query window, using Ctrl-M to include the query plan\n",
                "\n",
                "**Nested loop Joins**"
            ],
            "metadata": {
                "azdata_cell_guid": "33d1fcf6-70a8-46d7-be2b-62b0a8aaab46"
            }
        },
        {
            "cell_type": "code",
            "source": [
                "SELECT Sup.SupplierID, Sup.SupplierName, PO.*\n",
                "FROM Purchasing.Suppliers Sup\n",
                "LEFT JOIN Purchasing.PurchaseOrders PO\n",
                "ON PO.SupplierID = Sup.SupplierID\n",
                "WHERE Sup.SupplierID = 4"
            ],
            "metadata": {
                "azdata_cell_guid": "6c655db6-c046-4c89-9c82-5f11d067cb42"
            },
            "outputs": [],
            "execution_count": 20
        },
        {
            "cell_type": "markdown",
            "source": [
                "**Merge Joins**"
            ],
            "metadata": {
                "azdata_cell_guid": "977c751a-6cd0-41c2-aed6-c4f54d289a7f"
            }
        },
        {
            "cell_type": "code",
            "source": [
                "SELECT PO.PurchaseOrderID, PO.OrderDate, POL.PurchaseOrderLineID, POL.OrderedOuters\n",
                "FROM Purchasing.PurchaseOrders PO\n",
                "LEFT JOIN Purchasing.PurchaseOrderLines POL\n",
                "ON POL.PurchaseOrderID = PO.PurchaseOrderID\n",
                "ORDER BY PO.PurchaseOrderID"
            ],
            "metadata": {
                "azdata_cell_guid": "20b95a3d-cb23-4e90-9a63-66e5ceda2b60"
            },
            "outputs": [],
            "execution_count": 20
        },
        {
            "cell_type": "markdown",
            "source": [
                "**Hash Joins**"
            ],
            "metadata": {
                "azdata_cell_guid": "8fa969e1-c428-467a-95fe-0589e358227f"
            }
        },
        {
            "cell_type": "code",
            "source": [
                "SELECT Sup.SupplierID, Sup.SupplierName, PO.*\n",
                "FROM Purchasing.Suppliers Sup\n",
                "LEFT JOIN Purchasing.PurchaseOrders PO\n",
                "ON PO.SupplierID = Sup.SupplierID"
            ],
            "metadata": {
                "azdata_cell_guid": "497bbcc8-a7ae-450c-8f1f-303463e8edb8"
            },
            "outputs": [],
            "execution_count": 71
        },
        {
            "cell_type": "markdown",
            "source": [
                "**Adaptive Joins:**  \n",
                "\n",
                "Roll your own experiments 😉"
            ],
            "metadata": {
                "azdata_cell_guid": "a55546b3-7787-4a87-bef0-eef4c5a7c94b"
            }
        },
        {
            "cell_type": "markdown",
            "source": [
                "**CROSS APPLY**"
            ],
            "metadata": {
                "azdata_cell_guid": "12c071e7-8566-4bd4-b02c-ec0e3f81c8d2"
            }
        },
        {
            "cell_type": "code",
            "source": [
                "SELECT Sup.SupplierID, Sup.SupplierName, Sup.SupplierCategoryID, Cat.SupplierCategoryID, Cat.SupplierCategoryName\n",
                "FROM Purchasing.Suppliers Sup \n",
                "CROSS APPLY(\n",
                "    SELECT SupplierCategoryID, SupplierCategoryName\n",
                "    FROM Purchasing.SupplierCategories\n",
                "    WHERE SupplierCategoryID = Sup.SupplierCategoryID\n",
                ") Cat;"
            ],
            "metadata": {
                "azdata_cell_guid": "130f3a53-59d7-4562-962d-f187d959a889"
            },
            "outputs": [],
            "execution_count": 21
        },
        {
            "cell_type": "markdown",
            "source": [
                "**OUTER APPLY**"
            ],
            "metadata": {
                "azdata_cell_guid": "f75b3f53-e7bc-40c9-ac3c-96e3193a753d"
            }
        },
        {
            "cell_type": "code",
            "source": [
                "SELECT SI.InvoiceID, SI.DeliveryMethodID, SI.InvoiceDate, SI.BillToCustomerID, SIL.Amount\n",
                "FROM Sales.Invoices SI\n",
                "OUTER APPLY (\n",
                "    SELECT SUM(ExtendedPrice) As Amount\n",
                "    FROM Sales.InvoiceLines\n",
                "    WHERE InvoiceID = SI.InvoiceID\n",
                ") SIL\n",
                "WHERE SI.InvoiceID < 7"
            ],
            "metadata": {
                "azdata_cell_guid": "c5836371-0ec0-46a4-860b-d746d0509e02"
            },
            "outputs": [],
            "execution_count": 22
        }
    ]
}